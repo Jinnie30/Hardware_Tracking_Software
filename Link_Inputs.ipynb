{
 "cells": [
  {
   "cell_type": "code",
   "execution_count": 1,
   "id": "d5fbeae5-ad32-4e52-9596-d47f45d6026e",
   "metadata": {},
   "outputs": [],
   "source": [
    "class LinkInputs:\n",
    "    def __init__(self, filename):\n",
    "        self.frequency_center = None\n",
    "        self.antenna_efficiency = None\n",
    "        self.antenna_diameter = None\n",
    "        self.bandwidth_max = None\n",
    "        self.rcv_gain = None\n",
    "        self.rcv_noise_temp = None\n",
    "\n",
    "        with open(filename, 'r') as file:\n",
    "            for line in file:\n",
    "                line = line.strip()\n",
    "                if \"Frequency band center\" in line:\n",
    "                    self.frequency_center = float(line.split(\":\")[1].strip())\n",
    "                elif \"Antenna efficiency\" in line:\n",
    "                    self.antenna_efficiency = float(line.split(\":\")[1].strip())\n",
    "                elif \"Antenna diameter\" in line:\n",
    "                    self.antenna_diameter = float(line.split(\":\")[1].strip())\n",
    "                elif \"Bandwidth max\" in line:\n",
    "                    self.bandwidth_max = float(line.split(\":\")[1].strip())\n",
    "                elif \"RCV gain\" in line:\n",
    "                    self.rcv_gain = float(line.split(\":\")[1].strip())\n",
    "                elif \"RCV noise temperature\" in line:\n",
    "                    self.rcv_noise_temp = float(line.split(\":\")[1].strip())\n"
   ]
  },
  {
   "cell_type": "code",
   "execution_count": 3,
   "id": "6fb50f50-3643-483a-b069-e3716a6c52ae",
   "metadata": {},
   "outputs": [
    {
     "name": "stdout",
     "output_type": "stream",
     "text": [
      "Frequency band center (MHz): 1575.42\n",
      "Antenna efficiency: 0.5\n",
      "Antenna diameter (m): 46.0\n",
      "Bandwidth max (MHz): 2.0\n",
      "Receiver gain (dB): 56.0\n",
      "Receiver noise temperature (deg K): 200.0\n"
     ]
    }
   ],
   "source": [
    "# Create an instance\n",
    "link = LinkInputs(\"link_inputs.dat\")\n",
    "\n",
    "# Print values\n",
    "print(\"Frequency band center (MHz):\", link.frequency_center)\n",
    "print(\"Antenna efficiency:\", link.antenna_efficiency)\n",
    "print(\"Antenna diameter (m):\", link.antenna_diameter)\n",
    "print(\"Bandwidth max (MHz):\", link.bandwidth_max)\n",
    "print(\"Receiver gain (dB):\", link.rcv_gain)\n",
    "print(\"Receiver noise temperature (deg K):\", link.rcv_noise_temp)\n"
   ]
  },
  {
   "cell_type": "code",
   "execution_count": null,
   "id": "4982d479-0b61-4f0f-b899-27febfd2afba",
   "metadata": {},
   "outputs": [],
   "source": []
  }
 ],
 "metadata": {
  "kernelspec": {
   "display_name": "Python 3 (ipykernel)",
   "language": "python",
   "name": "python3"
  },
  "language_info": {
   "codemirror_mode": {
    "name": "ipython",
    "version": 3
   },
   "file_extension": ".py",
   "mimetype": "text/x-python",
   "name": "python",
   "nbconvert_exporter": "python",
   "pygments_lexer": "ipython3",
   "version": "3.12.8"
  }
 },
 "nbformat": 4,
 "nbformat_minor": 5
}
