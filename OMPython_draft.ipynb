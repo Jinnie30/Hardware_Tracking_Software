{
 "cells": [
  {
   "cell_type": "code",
   "execution_count": null,
   "id": "eebd2975-906f-4147-84b0-ae0f3b703e8e",
   "metadata": {},
   "outputs": [],
   "source": []
  }
 ],
 "metadata": {
  "kernelspec": {
   "display_name": "",
   "name": ""
  },
  "language_info": {
   "name": ""
  }
 },
 "nbformat": 4,
 "nbformat_minor": 5
}
