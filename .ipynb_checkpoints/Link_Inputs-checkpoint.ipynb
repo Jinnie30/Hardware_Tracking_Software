{
 "cells": [
  {
   "cell_type": "code",
   "execution_count": 1,
   "id": "d5fbeae5-ad32-4e52-9596-d47f45d6026e",
   "metadata": {},
   "outputs": [
    {
     "name": "stdout",
     "output_type": "stream",
     "text": [
      "📂 Reading link_inputs.dat...\n",
      "📡 Link Budget Parameters:\n",
      "   📶 Frequency: 1575.42 MHz\n",
      "   📡 Antenna Efficiency: 0.5\n",
      "   📡 Antenna Diameter: 46.0 m\n",
      "   🔊 Bandwidth: 2.0 MHz\n",
      "   📡 Receiver Gain: 56.0 dB\n",
      "   🔥 Receiver Noise Temperature: 200.0 K\n"
     ]
    }
   ],
   "source": [
    "import re\n",
    "\n",
    "class LinkBudget:\n",
    "    \"\"\"\n",
    "    Reads link budget parameters from link_inputs.dat.\n",
    "    \"\"\"\n",
    "    def __init__(self, filename):\n",
    "        self.frequency = 0.0  # MHz\n",
    "        self.antenna_efficiency = 0.0  # η\n",
    "        self.antenna_diameter = 0.0  # m\n",
    "        self.bandwidth = 0.0  # MHz\n",
    "        self.receiver_gain = 0.0  # dB\n",
    "        self.receiver_noise_temp = 0.0  # deg K\n",
    "        self.read_link_file(filename)\n",
    "\n",
    "    def read_link_file(self, filename):\n",
    "        \"\"\"\n",
    "        Reads link budget parameters from a given file, ignoring comments.\n",
    "        \"\"\"\n",
    "        try:\n",
    "            with open(filename, \"r\") as file:\n",
    "                # Remove comments, strip whitespace, and filter empty lines\n",
    "                lines = [re.sub(r\"#.*\", \"\", line).strip() for line in file.readlines()]\n",
    "                lines = [line for line in lines if line]  # Remove empty lines\n",
    "\n",
    "                print(\"📂 Reading link_inputs.dat...\")  # Debugging\n",
    "\n",
    "                # Read values from file\n",
    "                self.frequency = float(lines[0])  # Frequency (MHz)\n",
    "                self.antenna_efficiency = float(lines[1])  # Antenna Efficiency (η)\n",
    "                self.antenna_diameter = float(lines[2])  # Antenna Diameter (m)\n",
    "                self.bandwidth = float(lines[3])  # Bandwidth (MHz)\n",
    "                self.receiver_gain = float(lines[4])  # Receiver Gain (dB)\n",
    "                self.receiver_noise_temp = float(lines[5])  # Receiver Noise Temperature (K)\n",
    "\n",
    "        except FileNotFoundError:\n",
    "            print(f\"❌ Error: {filename} not found.\")\n",
    "        except ValueError as e:\n",
    "            print(f\"❌ Error reading {filename}: {e} (Check for incorrect values)\")\n",
    "        except Exception as e:\n",
    "            print(f\"❌ Unexpected error reading {filename}: {e}\")\n",
    "\n",
    "    def __str__(self):\n",
    "        return (f\"📡 Link Budget Parameters:\\n\"\n",
    "                f\"   📶 Frequency: {self.frequency} MHz\\n\"\n",
    "                f\"   📡 Antenna Efficiency: {self.antenna_efficiency}\\n\"\n",
    "                f\"   📡 Antenna Diameter: {self.antenna_diameter} m\\n\"\n",
    "                f\"   🔊 Bandwidth: {self.bandwidth} MHz\\n\"\n",
    "                f\"   📡 Receiver Gain: {self.receiver_gain} dB\\n\"\n",
    "                f\"   🔥 Receiver Noise Temperature: {self.receiver_noise_temp} K\")\n",
    "\n",
    "# Example Usage\n",
    "if __name__ == \"__main__\":\n",
    "    link_budget = LinkBudget(\"link_inputs.dat\")\n",
    "    print(link_budget)\n"
   ]
  },
  {
   "cell_type": "code",
   "execution_count": null,
   "id": "6fb50f50-3643-483a-b069-e3716a6c52ae",
   "metadata": {},
   "outputs": [],
   "source": []
  }
 ],
 "metadata": {
  "kernelspec": {
   "display_name": "Python 3 (ipykernel)",
   "language": "python",
   "name": "python3"
  },
  "language_info": {
   "codemirror_mode": {
    "name": "ipython",
    "version": 3
   },
   "file_extension": ".py",
   "mimetype": "text/x-python",
   "name": "python",
   "nbconvert_exporter": "python",
   "pygments_lexer": "ipython3",
   "version": "3.12.8"
  }
 },
 "nbformat": 4,
 "nbformat_minor": 5
}
