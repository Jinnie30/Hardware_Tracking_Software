{
 "cells": [
  {
   "cell_type": "code",
   "execution_count": 4,
   "id": "5337f8aa-8409-415e-b553-943e9295839f",
   "metadata": {},
   "outputs": [
    {
     "name": "stdout",
     "output_type": "stream",
     "text": [
      "['sensor.sp', 'Station_Parameters.py', 'Tracking_Intervals_Inputs.ipynb', 'Untitled1.ipynb', 'tracking_interval.dat', 'link_inputs.dat', 'Untitled3.ipynb', 'Untitled.ipynb', 'tle.dat', 'Class2.ipynb', 'Tracking_Intervals_Inputs.py', 'Untitled2.ipynb', 'Satellite_TLE_File.py', '__pycache__', 'Station_Parameters.ipynb', 'FileIO.ipynb', 'Satellite_TLE_File.ipynb', 'C:\\\\Users\\\\jinni\\\\Hardware_Tracking_Software\\\\gps-ops.txt', 'Link_Inputs.py', 'satellite.ephem', 'station.dat', 'gps-ops.txt', '.ipynb_checkpoints', 'Link_Inputs.ipynb', '.git', 'C:Notebooks', 'FileIO.py', 'C:Users']\n"
     ]
    }
   ],
   "source": [
    "import os\n",
    "print(os.listdir())  # List files in the current directory"
   ]
  },
  {
   "cell_type": "code",
   "execution_count": 5,
   "id": "42f8eb29-9bba-4d89-8411-f2c6715ea8ee",
   "metadata": {},
   "outputs": [
    {
     "name": "stdout",
     "output_type": "stream",
     "text": [
      "[NbConvertApp] Converting notebook Satellite_TLE_File.ipynb to script\n",
      "[NbConvertApp] Writing 2447 bytes to Satellite_TLE_File.py\n"
     ]
    }
   ],
   "source": [
    "#!jupyter nbconvert --to script Station_Parameters.ipynb\n",
    "!jupyter nbconvert --to script Satellite_TLE_File.ipynb\n",
    "#!jupyter nbconvert --to script Tracking_Intervals_Inputs.ipynb\n",
    "#!jupyter nbconvert --to script Link_Inputs.ipynb"
   ]
  },
  {
   "cell_type": "code",
   "execution_count": 17,
   "id": "dbb640e3-136a-400f-b62f-a59543981166",
   "metadata": {},
   "outputs": [
    {
     "name": "stdout",
     "output_type": "stream",
     "text": [
      "🚀 Initializing FileIO...\n",
      "\n",
      " Loading Station Parameters...\n",
      "📡 Station: ARO\n",
      "🌍 Latitude: 45.95550333333333°, Longitude: 281.9269597222222°, Altitude: 260.42 m\n",
      "⏳ UTC Offset: -4.0 hrs\n",
      "🔭 Diameter: 46.0 m, Focal Ratio: 0.4, Focal Length: 18.3 m\n",
      "🎯 Surface Accuracy: 0.32 cm (solid), 0.64 cm (mesh)\n",
      "📡 Beamwidth: 3.0 arcmin\n",
      "🔄 AZ Speed Max: 10.0 deg/min, EL Speed Max: 10.0 deg/min\n",
      "🔼 EL Min Limit: 9.0°, EL Max Limit: 89.0°\n",
      "🗺️ Azimuth/Elevation Limits:\n",
      "Azimuth: 0.0°, Min Elev: 9.0°, Max Elev: 89.0°\n",
      "Loaded 31 satellites.\n",
      "[<Satellite_TLE_File.Satellite object at 0x10d74f3e0>, <Satellite_TLE_File.Satellite object at 0x10d7544d0>, <Satellite_TLE_File.Satellite object at 0x10d754170>, <Satellite_TLE_File.Satellite object at 0x10d7545f0>, <Satellite_TLE_File.Satellite object at 0x10d755af0>, <Satellite_TLE_File.Satellite object at 0x10d754bf0>, <Satellite_TLE_File.Satellite object at 0x10d754b60>, <Satellite_TLE_File.Satellite object at 0x10d755340>, <Satellite_TLE_File.Satellite object at 0x10d754290>, <Satellite_TLE_File.Satellite object at 0x10d755130>, <Satellite_TLE_File.Satellite object at 0x10d7551c0>, <Satellite_TLE_File.Satellite object at 0x10d755520>, <Satellite_TLE_File.Satellite object at 0x10d755640>, <Satellite_TLE_File.Satellite object at 0x10d7557f0>, <Satellite_TLE_File.Satellite object at 0x10d755160>, <Satellite_TLE_File.Satellite object at 0x10d755850>, <Satellite_TLE_File.Satellite object at 0x10d755970>, <Satellite_TLE_File.Satellite object at 0x10d755d00>, <Satellite_TLE_File.Satellite object at 0x10d755d60>, <Satellite_TLE_File.Satellite object at 0x10d755910>, <Satellite_TLE_File.Satellite object at 0x10d755ca0>, <Satellite_TLE_File.Satellite object at 0x10d7565d0>, <Satellite_TLE_File.Satellite object at 0x10d754620>, <Satellite_TLE_File.Satellite object at 0x10d754f50>, <Satellite_TLE_File.Satellite object at 0x10d7566f0>, <Satellite_TLE_File.Satellite object at 0x10d756630>, <Satellite_TLE_File.Satellite object at 0x10d7569f0>, <Satellite_TLE_File.Satellite object at 0x10d756bd0>, <Satellite_TLE_File.Satellite object at 0x10d756660>, <Satellite_TLE_File.Satellite object at 0x10d756990>, <Satellite_TLE_File.Satellite object at 0x10d756a20>]\n",
      "\n",
      " Loading Tracking Interval...\n",
      "📂 Reading tracking_interval.dat...\n",
      "⏳ Tracking Interval:\n",
      "   🕒 Start Time: 2025-03-17 12:00:00 UTC\n",
      "   ⏳ Duration: 3600 seconds (60.0 min)\n",
      "   ⏲️ Time Step: 60 seconds (1.0 min)\n",
      "\n",
      " Loading Link Budget Inputs...\n",
      "📂 Reading link_inputs.dat...\n",
      "📡 Link Budget Parameters:\n",
      "   📶 Frequency: 1575.42 MHz\n",
      "   📡 Antenna Efficiency: 0.5\n",
      "   📡 Antenna Diameter: 46.0 m\n",
      "   🔊 Bandwidth: 2.0 MHz\n",
      "   📡 Receiver Gain: 56.0 dB\n",
      "   🔥 Receiver Noise Temperature: 200.0 K\n"
     ]
    }
   ],
   "source": [
    "import sys\n",
    "import os\n",
    "\n",
    "# Ensure Python finds the local modules\n",
    "sys.path.append(os.getcwd())\n",
    "\n",
    "# Import all modules\n",
    "from Station_Parameters import Station\n",
    "from Satellite_TLE_File import Satellite\n",
    "from Tracking_Intervals_Inputs import TrackingInterval\n",
    "from Link_Inputs import LinkBudget\n",
    "\n",
    "class FileIO:\n",
    "    \"\"\"\n",
    "    Master class to load all input files (Station, Satellite TLE, Tracking Intervals, Link Budget).\n",
    "    \"\"\"\n",
    "\n",
    "    def __init__(self):\n",
    "        # File paths for the input data\n",
    "        self.station_file = \"station.dat\"\n",
    "        self.tle_url = \"http://celestrak.org/NORAD/elements/gps-ops.txt\"  # Live TLE Data\n",
    "        self.tracking_file = \"tracking_interval.dat\"\n",
    "        self.link_file = \"link_inputs.dat\"\n",
    "\n",
    "        # Load all input data\n",
    "        self.load_all_inputs()\n",
    "\n",
    "    def load_all_inputs(self):\n",
    "        \"\"\"\n",
    "        Reads and loads all input files, including station parameters, satellite TLEs, \n",
    "        tracking intervals, and link budgets.\n",
    "        \"\"\"\n",
    "    \n",
    "        print(\"\\n Loading Station Parameters...\")\n",
    "        self.station = Station(self.station_file)\n",
    "        print(self.station)\n",
    "    \n",
    "        #print(\"\\n Fetching Satellite Data...\")\n",
    "    \n",
    "        # Reading the TLE file\n",
    "        tlefile=r'C:\\Users\\jinni\\Hardware_Tracking_Software\\gps-ops.txt'\n",
    "        with open(tlefile, 'r') as TLEfile:\n",
    "         lines = TLEfile.readlines()\n",
    "    \n",
    "        self.satellites = []  # Store multiple satellites\n",
    "        i = 0\n",
    "        while i < len(lines) - 2:  # Process each satellite (3 lines per entry)\n",
    "            name = lines[i].strip()   # Satellite name\n",
    "            tle1 = lines[i + 1].strip()  # TLE Line 1\n",
    "            tle2 = lines[i + 2].strip()  # TLE Line 2\n",
    "            self.satellites.append(Satellite(name, tle1, tle2))  \n",
    "            i += 3  # Move to the next satellite\n",
    "    \n",
    "        print(f\"Loaded {len(self.satellites)} satellites.\")\n",
    "        print(self.satellites)\n",
    "    \n",
    "        print(\"\\n Loading Tracking Interval...\")\n",
    "        self.tracking = TrackingInterval(self.tracking_file)\n",
    "        print(self.tracking)\n",
    "    \n",
    "        print(\"\\n Loading Link Budget Inputs...\")\n",
    "        self.link_budget = LinkBudget(self.link_file)\n",
    "        print(self.link_budget)\n",
    "\n",
    "\n",
    "# Example Usage\n",
    "if __name__ == \"__main__\":\n",
    "    print(\"🚀 Initializing FileIO...\")\n",
    "    file_io = FileIO()"
   ]
  },
  {
   "cell_type": "code",
   "execution_count": null,
   "id": "dd7934a4-63b1-4571-876e-5a59e06a2d2f",
   "metadata": {},
   "outputs": [],
   "source": []
  }
 ],
 "metadata": {
  "kernelspec": {
   "display_name": "Python 3 (ipykernel)",
   "language": "python",
   "name": "python3"
  },
  "language_info": {
   "codemirror_mode": {
    "name": "ipython",
    "version": 3
   },
   "file_extension": ".py",
   "mimetype": "text/x-python",
   "name": "python",
   "nbconvert_exporter": "python",
   "pygments_lexer": "ipython3",
   "version": "3.12.8"
  }
 },
 "nbformat": 4,
 "nbformat_minor": 5
}
