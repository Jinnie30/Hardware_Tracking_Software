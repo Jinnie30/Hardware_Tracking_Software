{
 "cells": [
  {
   "cell_type": "code",
   "execution_count": 3,
   "id": "5465bc89-7bb0-4461-a75e-f2421b38fe56",
   "metadata": {},
   "outputs": [],
   "source": [
    "from datetime import datetime\n",
    "\n",
    "class TrackingInterval:\n",
    "    def __init__(self, filename):\n",
    "        self.start_time = None\n",
    "        self.stop_time = None\n",
    "        self.time_step = None\n",
    "        self.el_increment = None\n",
    "        self.az_increment = None\n",
    "\n",
    "        with open(filename, 'r') as file:\n",
    "            for line in file:\n",
    "                line = line.strip()\n",
    "                if line.startswith(\"Tracking start date/time:\"):\n",
    "                    self.start_time = self.parse_datetime(line.split(\":\", 1)[1].strip())\n",
    "                elif line.startswith(\"Tracking stop date/time:\"):\n",
    "                    self.stop_time = self.parse_datetime(line.split(\":\", 1)[1].strip())\n",
    "                elif line.startswith(\"Output time step (sec):\"):\n",
    "                    self.time_step = float(line.split(\":\", 1)[1].strip())\n",
    "                elif line.startswith(\"(Optional) Elevation increment (deg):\"):\n",
    "                    inc = line.split(\":\", 1)[1].strip()\n",
    "                    self.el_increment = float(inc) if inc else None\n",
    "                elif line.startswith(\"(Optional) Azimuth increment (deg):\"):\n",
    "                    inc = line.split(\":\", 1)[1].strip()\n",
    "                    self.az_increment = float(inc) if inc else None\n",
    "\n",
    "    def parse_datetime(self, dt_str):\n",
    "        formats = [\"%Y-%j-%H:%M:%S\", \"%Y-%m-%d-%H:%M:%S\"]\n",
    "        for fmt in formats:\n",
    "            try:\n",
    "                return datetime.strptime(dt_str, fmt)\n",
    "            except ValueError:\n",
    "                continue\n",
    "        raise ValueError(f\"Invalid date format: {dt_str}\")\n"
   ]
  },
  {
   "cell_type": "code",
   "execution_count": 4,
   "id": "0575dd65-9c76-49e8-889c-2851b79f00b3",
   "metadata": {},
   "outputs": [
    {
     "name": "stdout",
     "output_type": "stream",
     "text": [
      "Tracking Start Time: 2024-04-21 14:00:00\n",
      "Tracking Stop Time: 2024-04-21 16:00:00\n",
      "Output Time Step (sec): 60.0\n",
      "Elevation Increment (deg): 0.5\n",
      "Azimuth Increment (deg): 0.5\n"
     ]
    }
   ],
   "source": [
    "# create an instance of your class using your .dat file\n",
    "interval = TrackingInterval(\"tracking_interval.dat\")\n",
    "\n",
    "# print the values to verify the output\n",
    "print(\"Tracking Start Time:\", interval.start_time)\n",
    "print(\"Tracking Stop Time:\", interval.stop_time)\n",
    "print(\"Output Time Step (sec):\", interval.time_step)\n",
    "print(\"Elevation Increment (deg):\", interval.el_increment)\n",
    "print(\"Azimuth Increment (deg):\", interval.az_increment)\n"
   ]
  },
  {
   "cell_type": "code",
   "execution_count": null,
   "id": "36a6daf6-8696-42d5-a566-a70e147ecca1",
   "metadata": {},
   "outputs": [],
   "source": []
  }
 ],
 "metadata": {
  "kernelspec": {
   "display_name": "Python 3 (ipykernel)",
   "language": "python",
   "name": "python3"
  },
  "language_info": {
   "codemirror_mode": {
    "name": "ipython",
    "version": 3
   },
   "file_extension": ".py",
   "mimetype": "text/x-python",
   "name": "python",
   "nbconvert_exporter": "python",
   "pygments_lexer": "ipython3",
   "version": "3.12.8"
  }
 },
 "nbformat": 4,
 "nbformat_minor": 5
}
