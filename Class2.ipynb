{
 "cells": [
  {
   "cell_type": "code",
   "execution_count": 1,
   "id": "8c61874b-7291-43e2-814b-500bc158125e",
   "metadata": {},
   "outputs": [
    {
     "name": "stdout",
     "output_type": "stream",
     "text": [
      "Satellite Name: GPS BIIR-2  (PRN 13)\n",
      "TLE Line 1: 1 24876U 97035A   25076.50113901  .00000022  00000+0  00000+0 0  9993\n",
      "TLE Line 2: 2 24876  55.7681 116.4396 0087517  53.8685 307.0158  2.00562662202797\n"
     ]
    }
   ],
   "source": [
    "# Import required libraries\n",
    "import ssl\n",
    "import urllib.request\n",
    "import datetime as dt\n",
    "import certifi\n",
    "\n",
    "# Define the URL to fetch GPS TLE data\n",
    "tle_url = 'https://celestrak.org/NORAD/elements/gp.php?GROUP=gps-ops&FORMAT=tle'\n",
    "tle_file = 'gps-ops.txt'  # Name of the local file to save data\n",
    "\n",
    "# Create an SSL context using certifi to avoid SSL errors\n",
    "context = ssl.create_default_context(cafile=certifi.where())\n",
    "\n",
    "# Open the URL and save the TLE data manually\n",
    "with urllib.request.urlopen(tle_url, context=context) as response, open(tle_file, 'wb') as out_file:\n",
    "    out_file.write(response.read())  # Save the downloaded data to a file\n",
    "\n",
    "# Open the downloaded file and read the first satellite's TLE data\n",
    "with open(tle_file, 'rt') as tlefile:\n",
    "    line0 = tlefile.readline().strip()  # Satellite name\n",
    "    line1 = tlefile.readline().strip()  # First line of TLE\n",
    "    line2 = tlefile.readline().strip()  # Second line of TLE\n",
    "\n",
    "# Print the first satellite's TLE set\n",
    "print(\"Satellite Name:\", line0)\n",
    "print(\"TLE Line 1:\", line1)\n",
    "print(\"TLE Line 2:\", line2)"
   ]
  },
  {
   "cell_type": "code",
   "execution_count": 2,
   "id": "050e2c24-48da-493e-9b7f-a2b6b37331dc",
   "metadata": {},
   "outputs": [
    {
     "name": "stdout",
     "output_type": "stream",
     "text": [
      "\n",
      "Extracted Epoch String: 25076.50113901\n",
      "\n",
      "Reference Epoch Date: 2025-03-17 00:00:00\n",
      "Fractional Time (as timedelta): 12:01:38.410464\n",
      "Final Computed Epoch Datetime: 2025-03-17 12:01:38.410464+00:00\n"
     ]
    }
   ],
   "source": [
    "# Extract the Epoch Time from TLE (Characters 18-32 from Line 1)\n",
    "refepochString = line1[18:32]  # Example: '24057.09840884'\n",
    "print(\"\\nExtracted Epoch String:\", refepochString)\n",
    "\n",
    "# Split the string into two parts: Year-Day and Fractional Day\n",
    "RefEpochDate = dt.datetime.strptime(refepochString[:5], '%y%j')  # Convert '24057' to datetime\n",
    "RefEpochTime = dt.timedelta(days=float(refepochString[5:]))  # Convert fractional day to timedelta\n",
    "\n",
    "# Compute the full date-time of the TLE Epoch\n",
    "RefEpochdt = (RefEpochDate + RefEpochTime).replace(tzinfo=dt.timezone.utc)\n",
    "\n",
    "# Print results\n",
    "print(\"\\nReference Epoch Date:\", RefEpochDate)\n",
    "print(\"Fractional Time (as timedelta):\", RefEpochTime)\n",
    "print(\"Final Computed Epoch Datetime:\", RefEpochdt)"
   ]
  },
  {
   "cell_type": "code",
   "execution_count": 3,
   "id": "396ee735-d79c-4082-a595-499b241d9218",
   "metadata": {},
   "outputs": [
    {
     "name": "stdout",
     "output_type": "stream",
     "text": [
      "\n",
      "Formatted TLE Epoch Time: 17 Mar 2025 12:01:38.410464\n",
      "\n",
      "TLE Epoch in YYDDD format: 25076\n",
      "\n",
      "Converted Start Time: 2024-05-02 14:00:00\n",
      "\n",
      "Converted Start Time: 2024-05-02 14:00:00+00:00\n",
      "\n",
      "Seconds from TLE Epoch to Start Time: -27554498.410464\n"
     ]
    }
   ],
   "source": [
    "# Format the TLE Epoch time into a readable format\n",
    "formattedEpoch = RefEpochdt.strftime('%d %b %Y %H:%M:%S.%f')\n",
    "print(\"\\nFormatted TLE Epoch Time:\", formattedEpoch)\n",
    "\n",
    "# Extract YYYYDDD format\n",
    "YYddd = int(RefEpochdt.strftime('%y%j'))\n",
    "print(\"\\nTLE Epoch in YYDDD format:\", YYddd)\n",
    "\n",
    "# Convert a future date string into a datetime object\n",
    "StartString = '02 May 2024 14:00:00.00'\n",
    "Startdt = dt.datetime.strptime(StartString, '%d %b %Y %H:%M:%S.%f')\n",
    "print(\"\\nConverted Start Time:\", Startdt)\n",
    "\n",
    "Startdt = Startdt.replace(tzinfo=dt.timezone.utc)\n",
    "print(\"\\nConverted Start Time:\", Startdt)\n",
    "\n",
    "# Compute the number of seconds from TLE Epoch to Start Time\n",
    "Epseconds = (Startdt - RefEpochdt).total_seconds()\n",
    "print(\"\\nSeconds from TLE Epoch to Start Time:\", Epseconds)"
   ]
  },
  {
   "cell_type": "code",
   "execution_count": 4,
   "id": "8f5c1134-7c6d-44df-88e7-be6b9c461edb",
   "metadata": {},
   "outputs": [
    {
     "name": "stdout",
     "output_type": "stream",
     "text": [
      "\n",
      "Current UTC Tracking Time: 2025-03-18 00:25:28.531373+00:00\n",
      "Adjusted UTC Tracking Time: 2025-03-18 17:00:00+00:00\n",
      "\n",
      "Time Delta (Tracking Time - TLE Epoch): 1 day, 4:58:21.589536\n",
      "\n",
      "Seconds from TLE Epoch to Tracking Time: 104301.589536\n"
     ]
    }
   ],
   "source": [
    "# Computing Time Delta from TLE Epoch to Tracking Time\n",
    "trackingtime = dt.datetime.now(dt.timezone.utc)\n",
    "print(\"\\nCurrent UTC Tracking Time:\", trackingtime)\n",
    "\n",
    "# Adjust tracking time to a specific UTC hour (e.g., 17:00 UTC)\n",
    "trackingtime = trackingtime.replace(hour=17, minute=0, second=0, microsecond=0)\n",
    "print(\"Adjusted UTC Tracking Time:\", trackingtime)\n",
    "\n",
    "# Compute the time delta between TLE Epoch and Tracking Time\n",
    "deltat = trackingtime - RefEpochdt\n",
    "print(\"\\nTime Delta (Tracking Time - TLE Epoch):\", deltat)\n",
    "\n",
    "# Convert the time delta into seconds\n",
    "tstart = deltat.total_seconds()\n",
    "print(\"\\nSeconds from TLE Epoch to Tracking Time:\", tstart)\n"
   ]
  }
 ],
 "metadata": {
  "kernelspec": {
   "display_name": "Python 3 (ipykernel)",
   "language": "python",
   "name": "python3"
  },
  "language_info": {
   "codemirror_mode": {
    "name": "ipython",
    "version": 3
   },
   "file_extension": ".py",
   "mimetype": "text/x-python",
   "name": "python",
   "nbconvert_exporter": "python",
   "pygments_lexer": "ipython3",
   "version": "3.12.8"
  }
 },
 "nbformat": 4,
 "nbformat_minor": 5
}
