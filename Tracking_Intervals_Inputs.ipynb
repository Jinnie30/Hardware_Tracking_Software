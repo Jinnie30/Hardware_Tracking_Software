{
 "cells": [
  {
   "cell_type": "code",
   "execution_count": 4,
   "id": "5465bc89-7bb0-4461-a75e-f2421b38fe56",
   "metadata": {},
   "outputs": [
    {
     "name": "stdout",
     "output_type": "stream",
     "text": [
      "📂 Reading tracking_interval.dat...\n",
      "⏳ Tracking Interval:\n",
      "   🕒 Start Time: 2025-03-17 12:00:00 UTC\n",
      "   ⏳ Duration: 3600 seconds (60.0 min)\n",
      "   ⏲️ Time Step: 60 seconds (1.0 min)\n"
     ]
    }
   ],
   "source": [
    "import re\n",
    "from datetime import datetime\n",
    "\n",
    "class TrackingInterval:\n",
    "    \"\"\"\n",
    "    Reads tracking interval parameters from tracking_interval.dat.\n",
    "    \"\"\"\n",
    "    def __init__(self, filename):\n",
    "        self.start_time = None\n",
    "        self.duration = 0\n",
    "        self.time_step = 0\n",
    "        self.read_tracking_file(filename)\n",
    "\n",
    "    def read_tracking_file(self, filename):\n",
    "        \"\"\"\n",
    "        Reads tracking parameters from a given file, ignoring comments.\n",
    "        \"\"\"\n",
    "        try:\n",
    "            with open(filename, \"r\") as file:\n",
    "                # Remove comments, strip whitespace, and filter empty lines\n",
    "                lines = [re.sub(r\"#.*\", \"\", line).strip() for line in file.readlines()]\n",
    "                lines = [line for line in lines if line]  # Remove empty lines\n",
    "\n",
    "                print(\"📂 Reading tracking_interval.dat...\")  # Debugging\n",
    "\n",
    "                # Read start time and convert it to a datetime object\n",
    "                self.start_time = datetime.strptime(lines[0], \"%Y-%m-%d %H:%M:%S\")\n",
    "                \n",
    "                # Read duration and time step\n",
    "                self.duration = int(lines[1])\n",
    "                self.time_step = int(lines[2])\n",
    "\n",
    "        except FileNotFoundError:\n",
    "            print(f\"❌ Error: {filename} not found.\")\n",
    "        except ValueError as e:\n",
    "            print(f\"❌ Error reading {filename}: {e} (Check for incorrect values)\")\n",
    "        except Exception as e:\n",
    "            print(f\"❌ Unexpected error reading {filename}: {e}\")\n",
    "\n",
    "    def __str__(self):\n",
    "        return (f\"⏳ Tracking Interval:\\n\"\n",
    "                f\"   🕒 Start Time: {self.start_time} UTC\\n\"\n",
    "                f\"   ⏳ Duration: {self.duration} seconds ({self.duration / 60} min)\\n\"\n",
    "                f\"   ⏲️ Time Step: {self.time_step} seconds ({self.time_step / 60} min)\")\n",
    "\n",
    "# Example Usage\n",
    "if __name__ == \"__main__\":\n",
    "    tracking = TrackingInterval(\"tracking_interval.dat\")\n",
    "    print(tracking)"
   ]
  },
  {
   "cell_type": "code",
   "execution_count": null,
   "id": "0575dd65-9c76-49e8-889c-2851b79f00b3",
   "metadata": {},
   "outputs": [],
   "source": []
  }
 ],
 "metadata": {
  "kernelspec": {
   "display_name": "Python 3 (ipykernel)",
   "language": "python",
   "name": "python3"
  },
  "language_info": {
   "codemirror_mode": {
    "name": "ipython",
    "version": 3
   },
   "file_extension": ".py",
   "mimetype": "text/x-python",
   "name": "python",
   "nbconvert_exporter": "python",
   "pygments_lexer": "ipython3",
   "version": "3.12.8"
  }
 },
 "nbformat": 4,
 "nbformat_minor": 5
}
