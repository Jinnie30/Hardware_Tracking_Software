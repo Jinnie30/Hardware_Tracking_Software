{
 "cells": [
  {
   "cell_type": "code",
   "execution_count": 1,
   "id": "5337f8aa-8409-415e-b553-943e9295839f",
   "metadata": {},
   "outputs": [
    {
     "name": "stdout",
     "output_type": "stream",
     "text": [
      "['sensor.sp', 'Station_Parameters.py', 'Tracking_Intervals_Inputs.ipynb', 'Untitled1.ipynb', 'tracking_interval.dat', 'C:\\\\Notebooks\\\\ENG4350\\\\FW23-24\\\\Tracking\\\\gps-ops.txt', 'C:\\\\Users\\\\Hugh\\\\OneDrive - York University\\\\Documents\\\\STK 12\\\\TrackingScenario\\\\gps-ops.txt', 'link_inputs.dat', 'Untitled.ipynb', 'tle.dat', 'Class2.ipynb', 'Tracking_Intervals_Inputs.py', 'Untitled2.ipynb', 'Satellite_TLE_File.py', '__pycache__', 'Station_Parameters.ipynb', 'FileIO.ipynb', 'Satellite_TLE_File.ipynb', 'Link_Inputs.py', 'satellite.ephem', 'station.dat', 'gps-ops.txt', '.ipynb_checkpoints', 'Link_Inputs.ipynb', '.git']\n"
     ]
    }
   ],
   "source": [
    "import os\n",
    "print(os.listdir())  # List files in the current directory"
   ]
  },
  {
   "cell_type": "code",
   "execution_count": 2,
   "id": "42f8eb29-9bba-4d89-8411-f2c6715ea8ee",
   "metadata": {},
   "outputs": [],
   "source": [
    "#!jupyter nbconvert --to script Station_Parameters.ipynb\n",
    "#!jupyter nbconvert --to script Satellite_TLE_File.ipynb\n",
    "#!jupyter nbconvert --to script Tracking_Intervals_Inputs.ipynb\n",
    "#!jupyter nbconvert --to script Link_Inputs.ipynb"
   ]
  },
  {
   "cell_type": "code",
   "execution_count": 1,
   "id": "dbb640e3-136a-400f-b62f-a59543981166",
   "metadata": {},
   "outputs": [
    {
     "name": "stdout",
     "output_type": "stream",
     "text": [
      "Fetched 31 satellites from Celestrak.\n"
     ]
    },
    {
     "ename": "ImportError",
     "evalue": "cannot import name 'Satellite' from 'Satellite_TLE_File' (/Users/jinni/Hardware_Tracking_Software/Satellite_TLE_File.py)",
     "output_type": "error",
     "traceback": [
      "\u001b[0;31m---------------------------------------------------------------------------\u001b[0m",
      "\u001b[0;31mImportError\u001b[0m                               Traceback (most recent call last)",
      "Cell \u001b[0;32mIn[1], line 9\u001b[0m\n\u001b[1;32m      7\u001b[0m \u001b[38;5;66;03m# Import all modules\u001b[39;00m\n\u001b[1;32m      8\u001b[0m \u001b[38;5;28;01mfrom\u001b[39;00m \u001b[38;5;21;01mStation_Parameters\u001b[39;00m \u001b[38;5;28;01mimport\u001b[39;00m Station\n\u001b[0;32m----> 9\u001b[0m \u001b[38;5;28;01mfrom\u001b[39;00m \u001b[38;5;21;01mSatellite_TLE_File\u001b[39;00m \u001b[38;5;28;01mimport\u001b[39;00m Satellite\n\u001b[1;32m     10\u001b[0m \u001b[38;5;28;01mfrom\u001b[39;00m \u001b[38;5;21;01mTracking_Intervals_Inputs\u001b[39;00m \u001b[38;5;28;01mimport\u001b[39;00m TrackingInterval\n\u001b[1;32m     11\u001b[0m \u001b[38;5;28;01mfrom\u001b[39;00m \u001b[38;5;21;01mLink_Inputs\u001b[39;00m \u001b[38;5;28;01mimport\u001b[39;00m LinkBudget\n",
      "\u001b[0;31mImportError\u001b[0m: cannot import name 'Satellite' from 'Satellite_TLE_File' (/Users/jinni/Hardware_Tracking_Software/Satellite_TLE_File.py)"
     ]
    }
   ],
   "source": [
    "import sys\n",
    "import os\n",
    "\n",
    "# Ensure Python finds the local modules\n",
    "sys.path.append(os.getcwd())\n",
    "\n",
    "# Import all modules\n",
    "from Station_Parameters import Station\n",
    "from Satellite_TLE_File import Satellite\n",
    "from Tracking_Intervals_Inputs import TrackingInterval\n",
    "from Link_Inputs import LinkBudget\n",
    "\n",
    "class FileIO:\n",
    "    \"\"\"\n",
    "    Master class to load all input files (Station, Satellite TLE, Tracking Intervals, Link Budget).\n",
    "    \"\"\"\n",
    "\n",
    "    def __init__(self):\n",
    "        # File paths for the input data\n",
    "        self.station_file = \"station.dat\"\n",
    "        self.tle_url = \"http://celestrak.org/NORAD/elements/gps-ops.txt\"  # Live TLE Data\n",
    "        self.tracking_file = \"tracking_interval.dat\"\n",
    "        self.link_file = \"link_inputs.dat\"\n",
    "\n",
    "        # Load all input data\n",
    "        self.load_all_inputs()\n",
    "\n",
    "    def load_all_inputs(self):\n",
    "        \"\"\"\n",
    "        Reads and loads all input files.\n",
    "        \"\"\"\n",
    "        print(\"\\n📡 Loading Station Parameters...\")\n",
    "        self.station = Station(self.station_file)\n",
    "        print(self.station)\n",
    "\n",
    "        print(\"\\n🛰️ Fetching Satellite TLE Data...\")\n",
    "        self.satellites = Satellite()\n",
    "        print(self.satellites)\n",
    "\n",
    "        print(\"\\n⏳ Loading Tracking Interval...\")\n",
    "        self.tracking = TrackingInterval(self.tracking_file)\n",
    "        print(self.tracking)\n",
    "\n",
    "        print(\"\\n📶 Loading Link Budget Inputs...\")\n",
    "        self.link_budget = LinkBudget(self.link_file)\n",
    "        print(self.link_budget)\n",
    "\n",
    "# Example Usage\n",
    "if __name__ == \"__main__\":\n",
    "    print(\"🚀 Initializing FileIO...\")\n",
    "    file_io = FileIO()\n"
   ]
  },
  {
   "cell_type": "code",
   "execution_count": 9,
   "id": "4f0db7fa-f3b9-499a-92dc-392264382ce9",
   "metadata": {},
   "outputs": [
    {
     "ename": "AttributeError",
     "evalue": "'Geocentric' object has no attribute 'observe'",
     "output_type": "error",
     "traceback": [
      "\u001b[0;31m---------------------------------------------------------------------------\u001b[0m",
      "\u001b[0;31mAttributeError\u001b[0m                            Traceback (most recent call last)",
      "Cell \u001b[0;32mIn[9], line 21\u001b[0m\n\u001b[1;32m     18\u001b[0m subpoint \u001b[38;5;241m=\u001b[39m astrometric\u001b[38;5;241m.\u001b[39msubpoint()\n\u001b[1;32m     20\u001b[0m \u001b[38;5;66;03m# Now, we compute the azimuth and elevation from the station's location\u001b[39;00m\n\u001b[0;32m---> 21\u001b[0m alt, az, d \u001b[38;5;241m=\u001b[39m \u001b[43mstation\u001b[49m\u001b[38;5;241;43m.\u001b[39;49m\u001b[43mat\u001b[49m\u001b[43m(\u001b[49m\u001b[43mt\u001b[49m\u001b[43m)\u001b[49m\u001b[38;5;241;43m.\u001b[39;49m\u001b[43mobserve\u001b[49m(satellite)\u001b[38;5;241m.\u001b[39mapparent()\u001b[38;5;241m.\u001b[39maltaz()\n\u001b[1;32m     23\u001b[0m \u001b[38;5;66;03m# Print the results\u001b[39;00m\n\u001b[1;32m     24\u001b[0m \u001b[38;5;28mprint\u001b[39m(\u001b[38;5;124mf\u001b[39m\u001b[38;5;124m\"\u001b[39m\u001b[38;5;124mAt time \u001b[39m\u001b[38;5;132;01m{\u001b[39;00mt\u001b[38;5;241m.\u001b[39mutc_iso()\u001b[38;5;132;01m}\u001b[39;00m\u001b[38;5;124m:\u001b[39m\u001b[38;5;124m\"\u001b[39m)\n",
      "\u001b[0;31mAttributeError\u001b[0m: 'Geocentric' object has no attribute 'observe'"
     ]
    }
   ],
   "source": [
    "from skyfield.api import Topos, load\n",
    "from datetime import datetime\n",
    "\n",
    "# Load the TLE data (replace this with actual TLE data from your file)\n",
    "satellite = load.tle_file('gps-ops.txt')[0]  # Select the first satellite from TLE file\n",
    "\n",
    "# Set the station location (latitude, longitude)\n",
    "station = Topos(latitude_degrees=45.9555033333, longitude_degrees=281.9269597222)\n",
    "\n",
    "# Set the observation time\n",
    "timescale = load.timescale()\n",
    "t = timescale.utc(2025, 3, 18, 12, 0)  # Set a specific date and time\n",
    "\n",
    "# Compute the position of the satellite at time t\n",
    "astrometric = satellite.at(t)\n",
    "\n",
    "# Get the subpoint (latitude and longitude of the satellite's location on Earth)\n",
    "subpoint = astrometric.subpoint()\n",
    "\n",
    "# Now, we compute the azimuth and elevation from the station's location\n",
    "alt, az, d = station.at(t).observe(satellite).apparent().altaz()\n",
    "\n",
    "# Print the results\n",
    "print(f\"At time {t.utc_iso()}:\")\n",
    "print(f\"Satellite Position: Latitude {subpoint.latitude.degrees}, Longitude {subpoint.longitude.degrees}\")\n",
    "print(f\"Azimuth: {az.degrees}°, Elevation: {alt.degrees}°\")\n"
   ]
  },
  {
   "cell_type": "code",
   "execution_count": null,
   "id": "dd7934a4-63b1-4571-876e-5a59e06a2d2f",
   "metadata": {},
   "outputs": [],
   "source": []
  }
 ],
 "metadata": {
  "kernelspec": {
   "display_name": "Python 3 (ipykernel)",
   "language": "python",
   "name": "python3"
  },
  "language_info": {
   "codemirror_mode": {
    "name": "ipython",
    "version": 3
   },
   "file_extension": ".py",
   "mimetype": "text/x-python",
   "name": "python",
   "nbconvert_exporter": "python",
   "pygments_lexer": "ipython3",
   "version": "3.12.8"
  }
 },
 "nbformat": 4,
 "nbformat_minor": 5
}
