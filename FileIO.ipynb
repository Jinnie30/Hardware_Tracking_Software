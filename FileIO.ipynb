{
 "cells": [
  {
   "cell_type": "code",
   "execution_count": 6,
   "id": "5337f8aa-8409-415e-b553-943e9295839f",
   "metadata": {},
   "outputs": [
    {
     "name": "stdout",
     "output_type": "stream",
     "text": [
      "['sensor.sp', 'Station_Parameters.py', 'Tracking_Intervals_Inputs.ipynb', 'Untitled1.ipynb', 'tracking_interval.dat', 'C:\\\\Notebooks\\\\ENG4350\\\\FW23-24\\\\Tracking\\\\gps-ops.txt', 'C:\\\\Users\\\\Hugh\\\\OneDrive - York University\\\\Documents\\\\STK 12\\\\TrackingScenario\\\\gps-ops.txt', 'link_inputs.dat', 'Untitled.ipynb', 'tle.dat', 'Class2.ipynb', 'Tracking_Intervals_Inputs.py', 'Untitled2.ipynb', 'Satellite_TLE_File.py', '__pycache__', 'Station_Parameters.ipynb', 'FileIO.ipynb', 'Satellite_TLE_File.ipynb', 'Link_Inputs.py', 'satellite.ephem', 'station.dat', 'gps-ops.txt', '.ipynb_checkpoints', 'Link_Inputs.ipynb']\n"
     ]
    }
   ],
   "source": [
    "import os\n",
    "print(os.listdir())  # List files in the current directory"
   ]
  },
  {
   "cell_type": "code",
   "execution_count": 9,
   "id": "42f8eb29-9bba-4d89-8411-f2c6715ea8ee",
   "metadata": {},
   "outputs": [],
   "source": [
    "#!jupyter nbconvert --to script Station_Parameters.ipynb\n",
    "#!jupyter nbconvert --to script Satellite_TLE_File.ipynb\n",
    "#!jupyter nbconvert --to script Tracking_Intervals_Inputs.ipynb\n",
    "#!jupyter nbconvert --to script Link_Inputs.ipynb"
   ]
  },
  {
   "cell_type": "code",
   "execution_count": 10,
   "id": "dbb640e3-136a-400f-b62f-a59543981166",
   "metadata": {},
   "outputs": [
    {
     "name": "stdout",
     "output_type": "stream",
     "text": [
      "🚀 Initializing FileIO...\n",
      "\n",
      "📡 Loading Station Parameters...\n",
      "📡 Station: ARO\n",
      "🌍 Latitude: 45.95550333333333°, Longitude: 281.9269597222222°, Altitude: 260.42 m\n",
      "⏳ UTC Offset: -4.0 hrs\n",
      "🔭 Diameter: 46.0 m, Focal Ratio: 0.4, Focal Length: 18.3 m\n",
      "🎯 Surface Accuracy: 0.32 cm (solid), 0.64 cm (mesh)\n",
      "📡 Beamwidth: 3.0 arcmin\n",
      "🔄 AZ Speed Max: 10.0 deg/min, EL Speed Max: 10.0 deg/min\n",
      "🔼 EL Min Limit: 9.0°, EL Max Limit: 89.0°\n",
      "🗺️ Azimuth/Elevation Limits:\n",
      "Azimuth: 0.0°, Min Elev: 9.0°, Max Elev: 89.0°\n",
      "\n",
      "🛰️ Fetching Satellite TLE Data...\n",
      "Fetched 31 satellites from Celestrak.\n",
      "\n",
      "⏳ Loading Tracking Interval...\n",
      "📂 Reading tracking_interval.dat...\n",
      "⏳ Tracking Interval:\n",
      "   🕒 Start Time: 2025-03-17 12:00:00 UTC\n",
      "   ⏳ Duration: 3600 seconds (60.0 min)\n",
      "   ⏲️ Time Step: 60 seconds (1.0 min)\n",
      "\n",
      "📶 Loading Link Budget Inputs...\n",
      "📂 Reading link_inputs.dat...\n",
      "📡 Link Budget Parameters:\n",
      "   📶 Frequency: 1575.42 MHz\n",
      "   📡 Antenna Efficiency: 0.5\n",
      "   📡 Antenna Diameter: 46.0 m\n",
      "   🔊 Bandwidth: 2.0 MHz\n",
      "   📡 Receiver Gain: 56.0 dB\n",
      "   🔥 Receiver Noise Temperature: 200.0 K\n"
     ]
    }
   ],
   "source": [
    "import sys\n",
    "import os\n",
    "\n",
    "# Ensure Python finds the local modules\n",
    "sys.path.append(os.getcwd())\n",
    "\n",
    "# Import all modules\n",
    "from Station_Parameters import Station\n",
    "from Satellite_TLE_File import SatelliteTLE\n",
    "from Tracking_Intervals_Inputs import TrackingInterval\n",
    "from Link_Inputs import LinkBudget\n",
    "\n",
    "class FileIO:\n",
    "    \"\"\"\n",
    "    Master class to load all input files (Station, Satellite TLE, Tracking Intervals, Link Budget).\n",
    "    \"\"\"\n",
    "\n",
    "    def __init__(self):\n",
    "        # File paths for the input data\n",
    "        self.station_file = \"station.dat\"\n",
    "        self.tle_url = \"http://celestrak.org/NORAD/elements/gps-ops.txt\"  # Live TLE Data\n",
    "        self.tracking_file = \"tracking_interval.dat\"\n",
    "        self.link_file = \"link_inputs.dat\"\n",
    "\n",
    "        # Load all input data\n",
    "        self.load_all_inputs()\n",
    "\n",
    "    def load_all_inputs(self):\n",
    "        \"\"\"\n",
    "        Reads and loads all input files.\n",
    "        \"\"\"\n",
    "        print(\"\\n📡 Loading Station Parameters...\")\n",
    "        self.station = Station(self.station_file)\n",
    "        print(self.station)\n",
    "\n",
    "        print(\"\\n🛰️ Fetching Satellite TLE Data...\")\n",
    "        self.satellites = SatelliteTLE()\n",
    "        print(self.satellites)\n",
    "\n",
    "        print(\"\\n⏳ Loading Tracking Interval...\")\n",
    "        self.tracking = TrackingInterval(self.tracking_file)\n",
    "        print(self.tracking)\n",
    "\n",
    "        print(\"\\n📶 Loading Link Budget Inputs...\")\n",
    "        self.link_budget = LinkBudget(self.link_file)\n",
    "        print(self.link_budget)\n",
    "\n",
    "# Example Usage\n",
    "if __name__ == \"__main__\":\n",
    "    print(\"🚀 Initializing FileIO...\")\n",
    "    file_io = FileIO()\n"
   ]
  },
  {
   "cell_type": "code",
   "execution_count": null,
   "id": "61311cf1-403e-420b-af4b-8942a754c1cd",
   "metadata": {},
   "outputs": [],
   "source": []
  }
 ],
 "metadata": {
  "kernelspec": {
   "display_name": "Python 3 (ipykernel)",
   "language": "python",
   "name": "python3"
  },
  "language_info": {
   "codemirror_mode": {
    "name": "ipython",
    "version": 3
   },
   "file_extension": ".py",
   "mimetype": "text/x-python",
   "name": "python",
   "nbconvert_exporter": "python",
   "pygments_lexer": "ipython3",
   "version": "3.12.8"
  }
 },
 "nbformat": 4,
 "nbformat_minor": 5
}
