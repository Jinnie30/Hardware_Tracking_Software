{
 "cells": [
  {
   "cell_type": "code",
   "execution_count": 4,
   "id": "5337f8aa-8409-415e-b553-943e9295839f",
   "metadata": {},
   "outputs": [
    {
     "name": "stdout",
     "output_type": "stream",
     "text": [
      "['sensor.sp', 'Station_Parameters.py', 'Tracking_Intervals_Inputs.ipynb', 'tracking_interval.dat', 'link_inputs.dat', 'Class5.ipynb', 'tle.dat', 'Class2.ipynb', 'Tracking_Intervals_Inputs.py', 'Untitled2.ipynb', 'Satellite_TLE_File.py', '__pycache__', 'Station_Parameters.ipynb', 'FileIO.ipynb', 'Satellite_TLE_File.ipynb', 'Link_Inputs.py', 'satellite.ephem', 'station.dat', 'gps-ops.txt', '.ipynb_checkpoints', 'Link_Inputs.ipynb', '.git', 'C:Notebooks', 'FileIO.py', 'C:Users']\n"
     ]
    }
   ],
   "source": [
    "import os\n",
    "print(os.listdir())  # List files in the current directory"
   ]
  },
  {
   "cell_type": "code",
   "execution_count": 5,
   "id": "42f8eb29-9bba-4d89-8411-f2c6715ea8ee",
   "metadata": {},
   "outputs": [
    {
     "name": "stdout",
     "output_type": "stream",
     "text": [
      "[NbConvertApp] Converting notebook Satellite_TLE_File.ipynb to script\n",
      "[NbConvertApp] Writing 2446 bytes to Satellite_TLE_File.py\n"
     ]
    }
   ],
   "source": [
    "#!jupyter nbconvert --to script Station_Parameters.ipynb\n",
    "!jupyter nbconvert --to script Satellite_TLE_File.ipynb\n",
    "#!jupyter nbconvert --to script Tracking_Intervals_Inputs.ipynb\n",
    "#!jupyter nbconvert --to script Link_Inputs.ipynb"
   ]
  },
  {
   "cell_type": "code",
   "execution_count": 7,
   "id": "dbb640e3-136a-400f-b62f-a59543981166",
   "metadata": {},
   "outputs": [
    {
     "name": "stdout",
     "output_type": "stream",
     "text": [
      "🚀 Initializing FileIO...\n",
      "\n",
      " Loading Station Parameters...\n",
      "📡 Station: ARO\n",
      "🌍 Latitude: 45.95550333333333°, Longitude: 281.9269597222222°, Altitude: 260.42 m\n",
      "⏳ UTC Offset: -4.0 hrs\n",
      "🔭 Diameter: 46.0 m, Focal Ratio: 0.4, Focal Length: 18.3 m\n",
      "🎯 Surface Accuracy: 0.32 cm (solid), 0.64 cm (mesh)\n",
      "📡 Beamwidth: 3.0 arcmin\n",
      "🔄 AZ Speed Max: 10.0 deg/min, EL Speed Max: 10.0 deg/min\n",
      "🔼 EL Min Limit: 9.0°, EL Max Limit: 89.0°\n",
      "🗺️ Azimuth/Elevation Limits:\n",
      "Azimuth: 0.0°, Min Elev: 9.0°, Max Elev: 89.0°\n",
      "Loaded 31 satellites.\n",
      "[<Satellite_TLE_File.Satellite object at 0x106f47b30>, <Satellite_TLE_File.Satellite object at 0x106d4fbc0>, <Satellite_TLE_File.Satellite object at 0x106f4e9c0>, <Satellite_TLE_File.Satellite object at 0x106f4e990>, <Satellite_TLE_File.Satellite object at 0x106f4fb60>, <Satellite_TLE_File.Satellite object at 0x106f4ed50>, <Satellite_TLE_File.Satellite object at 0x106f4fad0>, <Satellite_TLE_File.Satellite object at 0x106f52660>, <Satellite_TLE_File.Satellite object at 0x106f51010>, <Satellite_TLE_File.Satellite object at 0x106f50740>, <Satellite_TLE_File.Satellite object at 0x106f50620>, <Satellite_TLE_File.Satellite object at 0x106f52120>, <Satellite_TLE_File.Satellite object at 0x106f50980>, <Satellite_TLE_File.Satellite object at 0x106f50860>, <Satellite_TLE_File.Satellite object at 0x106f50dd0>, <Satellite_TLE_File.Satellite object at 0x106f51850>, <Satellite_TLE_File.Satellite object at 0x106f50b00>, <Satellite_TLE_File.Satellite object at 0x106f51910>, <Satellite_TLE_File.Satellite object at 0x106f51a90>, <Satellite_TLE_File.Satellite object at 0x106f50260>, <Satellite_TLE_File.Satellite object at 0x106f50320>, <Satellite_TLE_File.Satellite object at 0x106f51be0>, <Satellite_TLE_File.Satellite object at 0x106f51bb0>, <Satellite_TLE_File.Satellite object at 0x106f50350>, <Satellite_TLE_File.Satellite object at 0x106f51dc0>, <Satellite_TLE_File.Satellite object at 0x106f51160>, <Satellite_TLE_File.Satellite object at 0x106f51040>, <Satellite_TLE_File.Satellite object at 0x106f50b90>, <Satellite_TLE_File.Satellite object at 0x106f50da0>, <Satellite_TLE_File.Satellite object at 0x106f50d70>, <Satellite_TLE_File.Satellite object at 0x106f50560>]\n",
      "\n",
      " Loading Tracking Interval...\n",
      "📂 Reading tracking_interval.dat...\n",
      "❌ Error reading tracking_interval.dat: time data 'Tracking start date/time: 2024-04-21-14:00:00' does not match format '%Y-%m-%d %H:%M:%S' (Check for incorrect values)\n",
      "⏳ Tracking Interval:\n",
      "   🕒 Start Time: None UTC\n",
      "   ⏳ Duration: 0 seconds (0.0 min)\n",
      "   ⏲️ Time Step: 0 seconds (0.0 min)\n",
      "\n",
      " Loading Link Budget Inputs...\n",
      "📂 Reading link_inputs.dat...\n",
      "❌ Error reading link_inputs.dat: could not convert string to float: 'Frequency band center, F_cnt MHz: 1575.42' (Check for incorrect values)\n",
      "📡 Link Budget Parameters:\n",
      "   📶 Frequency: 0.0 MHz\n",
      "   📡 Antenna Efficiency: 0.0\n",
      "   📡 Antenna Diameter: 0.0 m\n",
      "   🔊 Bandwidth: 0.0 MHz\n",
      "   📡 Receiver Gain: 0.0 dB\n",
      "   🔥 Receiver Noise Temperature: 0.0 K\n"
     ]
    }
   ],
   "source": [
    "import sys\n",
    "import os\n",
    "\n",
    "# Ensure Python finds the local modules\n",
    "sys.path.append(os.getcwd())\n",
    "\n",
    "# Import all modules\n",
    "from Station_Parameters import Station\n",
    "from Satellite_TLE_File import Satellite\n",
    "from Tracking_Intervals_Inputs import TrackingInterval\n",
    "from Link_Inputs import LinkBudget\n",
    "\n",
    "class FileIO:\n",
    "    \"\"\"\n",
    "    Master class to load all input files (Station, Satellite TLE, Tracking Intervals, Link Budget).\n",
    "    \"\"\"\n",
    "\n",
    "    def __init__(self):\n",
    "        # File paths for the input data\n",
    "        self.station_file = \"station.dat\"\n",
    "        self.tle_url = \"http://celestrak.org/NORAD/elements/gps-ops.txt\"  # Live TLE Data\n",
    "        self.tracking_file = \"tracking_interval.dat\"\n",
    "        self.link_file = \"link_inputs.dat\"\n",
    "\n",
    "        # Load all input data\n",
    "        self.load_all_inputs()\n",
    "\n",
    "    def load_all_inputs(self):\n",
    "        \"\"\"\n",
    "        Reads and loads all input files, including station parameters, satellite TLEs, \n",
    "        tracking intervals, and link budgets.\n",
    "        \"\"\"\n",
    "    \n",
    "        print(\"\\n Loading Station Parameters...\")\n",
    "        self.station = Station(self.station_file)\n",
    "        print(self.station)\n",
    "    \n",
    "        #print(\"\\n Fetching Satellite Data...\")\n",
    "    \n",
    "        # Reading the TLE file\n",
    "        tlefile = 'gps-ops.txt'\n",
    "        with open(tlefile, 'r') as TLEfile:\n",
    "         lines = TLEfile.readlines()\n",
    "    \n",
    "        self.satellites = []  # Store multiple satellites\n",
    "        i = 0\n",
    "        while i < len(lines) - 2:  # Process each satellite (3 lines per entry)\n",
    "            name = lines[i].strip()   # Satellite name\n",
    "            tle1 = lines[i + 1].strip()  # TLE Line 1\n",
    "            tle2 = lines[i + 2].strip()  # TLE Line 2\n",
    "            self.satellites.append(Satellite(name, tle1, tle2))  \n",
    "            i += 3  # Move to the next satellite\n",
    "    \n",
    "        print(f\"Loaded {len(self.satellites)} satellites.\")\n",
    "        print(self.satellites)\n",
    "    \n",
    "        print(\"\\n Loading Tracking Interval...\")\n",
    "        self.tracking = TrackingInterval(self.tracking_file)\n",
    "        print(self.tracking)\n",
    "    \n",
    "        print(\"\\n Loading Link Budget Inputs...\")\n",
    "        self.link_budget = LinkBudget(self.link_file)\n",
    "        print(self.link_budget)\n",
    "\n",
    "\n",
    "# Example Usage\n",
    "if __name__ == \"__main__\":\n",
    "    print(\"🚀 Initializing FileIO...\")\n",
    "    file_io = FileIO()"
   ]
  },
  {
   "cell_type": "code",
   "execution_count": null,
   "id": "dd7934a4-63b1-4571-876e-5a59e06a2d2f",
   "metadata": {},
   "outputs": [],
   "source": []
  }
 ],
 "metadata": {
  "kernelspec": {
   "display_name": "Python 3 (ipykernel)",
   "language": "python",
   "name": "python3"
  },
  "language_info": {
   "codemirror_mode": {
    "name": "ipython",
    "version": 3
   },
   "file_extension": ".py",
   "mimetype": "text/x-python",
   "name": "python",
   "nbconvert_exporter": "python",
   "pygments_lexer": "ipython3",
   "version": "3.12.8"
  }
 },
 "nbformat": 4,
 "nbformat_minor": 5
}
